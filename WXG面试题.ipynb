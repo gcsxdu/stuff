{
 "cells": [
  {
   "cell_type": "markdown",
   "id": "fffc5cd1-6d56-4fae-b139-343723f325c7",
   "metadata": {},
   "source": [
    "### 腾讯 WXG 面试中的一道场景题"
   ]
  },
  {
   "cell_type": "markdown",
   "id": "7a400dd6-f91a-4516-aceb-fe843fba1a11",
   "metadata": {},
   "source": [
    "**问题**：两块广告牌，五个广告商，设计一个算法，在一段时间内五个广告商的广告出现次数为1:2:3:4:5，注意两个广告牌不能同时播同一个广告。"
   ]
  },
  {
   "cell_type": "markdown",
   "id": "c12567d3-acb7-41fa-9132-f90405b86b74",
   "metadata": {},
   "source": [
    "考虑只有一个广告牌，则只需要按照以下概率选择对应的广告播放即可"
   ]
  },
  {
   "cell_type": "markdown",
   "id": "ab546150-d207-4c78-bc5d-86dc679da3e8",
   "metadata": {},
   "source": [
    "$$\n",
    "P=[\\frac{1}{15} \\frac{2}{15} \\frac{3}{15} \\frac{4}{15} \\frac{5}{15}]\n",
    "$$"
   ]
  },
  {
   "cell_type": "markdown",
   "id": "783ed3d5-fcc2-4dde-9ff4-3b40f1ecf487",
   "metadata": {},
   "source": [
    "具体实现是通过`轮盘赌算法`，即产生一个[0, 1)区间上的随机数$r$，根据$r$落在累积概率区间的位置选择对应的广告。累积概率为"
   ]
  },
  {
   "cell_type": "markdown",
   "id": "a1f95055-7f33-45a3-9d79-fec04dddc5f8",
   "metadata": {},
   "source": [
    "$$\n",
    "P_{cumsum}=[\\frac{1}{15} \\frac{3}{15} \\frac{6}{15} \\frac{10}{15} \\frac{15}{15}]\n",
    "$$"
   ]
  },
  {
   "cell_type": "markdown",
   "id": "6f8e07f0-4058-4177-b96d-e13ac38829c9",
   "metadata": {},
   "source": [
    "若$r\\leq\\frac{1}{15}$，则选择第1个广告；若$\\frac{1}{15}<r\\leq \\frac{3}{15}$，则选择第2个广告；以此类推..."
   ]
  },
  {
   "cell_type": "markdown",
   "id": "607ca980-a4dd-4855-a619-0cfe21d5b14f",
   "metadata": {},
   "source": [
    "相应的实现代码为"
   ]
  },
  {
   "cell_type": "code",
   "execution_count": 36,
   "id": "af183e91-4ca3-4fe9-9f2a-f98bf9f9fc7f",
   "metadata": {},
   "outputs": [
    {
     "name": "stdout",
     "output_type": "stream",
     "text": [
      "[0.067, 0.133, 0.2, 0.267, 0.333]\n",
      "[0.067, 0.133, 0.199, 0.267, 0.334]\n"
     ]
    }
   ],
   "source": [
    "from random import random\n",
    "\n",
    "N = 1000000\n",
    "cnt_dict = {'1':0, '2':0, '3':0, '4':0, '5':0}\n",
    "\n",
    "for i in range(N):\n",
    "    r = random()\n",
    "    if r<1/15:\n",
    "        cnt_dict['1'] += 1\n",
    "    elif r<3/15:\n",
    "        cnt_dict['2'] += 1\n",
    "    elif r<6/15:\n",
    "        cnt_dict['3'] += 1\n",
    "    elif r<10/15:\n",
    "        cnt_dict['4'] += 1\n",
    "    else:\n",
    "        cnt_dict['5'] += 1\n",
    "\n",
    "prob = [float('{:.3f}'.format(ele/sum(cnt_dict.values()))) for ele in cnt_dict.values()]\n",
    "prob_required = [float('{:.3f}'.format(i/15)) for i in range(1,6)]\n",
    "\n",
    "print(prob_required)\n",
    "print(prob)"
   ]
  },
  {
   "cell_type": "markdown",
   "id": "b018e2c9-d87b-4e35-99e7-1fdeb624cdf5",
   "metadata": {},
   "source": [
    "现在考虑有2个广告牌的情况，若没有`2个广告牌不能同时播放同一广告`这一限制，那么只需要两个广告牌相互独立地进行上面的操作即可。但题目要求两个广告牌不能同时播放相同的广告，考虑让其中的一个广告牌按照上面的方法先选择一个广告播放，然后在剩下的广告中按照某种概率选择出一个在另外一个广告牌播放。一种实现方法是，若选择了广告1和4，则另外一个广告牌播放广告5；若选择了5，则以$\\frac{2}{5}$的概率选择广告2在另一个广告牌播放，以$\\frac{3}{5}$的概率选择广告3在另一个广告牌播放；若选择了广告2，则等概的选择1和4在另一广告牌播放，若选择了广告3，则选择广告4在另一广告牌播放。"
   ]
  },
  {
   "cell_type": "markdown",
   "id": "f9ec685d-1fdd-4570-8983-e7970f99fc0f",
   "metadata": {},
   "source": [
    "具体实现如下"
   ]
  },
  {
   "cell_type": "code",
   "execution_count": 37,
   "id": "61236963-1515-4cea-8553-7912c64c6e6a",
   "metadata": {},
   "outputs": [
    {
     "name": "stdout",
     "output_type": "stream",
     "text": [
      "[0.067, 0.133, 0.2, 0.267, 0.333]\n",
      "[0.067, 0.134, 0.2, 0.267, 0.333]\n"
     ]
    }
   ],
   "source": [
    "from random import random\n",
    "\n",
    "N = 1000000\n",
    "cnt_dict = {'1':0, '2':0, '3':0, '4':0, '5':0}\n",
    "\n",
    "for i in range(N):\n",
    "    r = random()\n",
    "    if r<1/15:\n",
    "        cnt_dict['1'] += 1\n",
    "        cnt_dict['5'] += 1\n",
    "    elif r<3/15:\n",
    "        cnt_dict['2'] += 1\n",
    "        if random()<1/2:\n",
    "            cnt_dict['1'] += 1\n",
    "        else:\n",
    "            cnt_dict['4'] += 1\n",
    "    elif r<6/15:\n",
    "        cnt_dict['3'] += 1\n",
    "        cnt_dict['4'] += 1\n",
    "    elif r<10/15:\n",
    "        cnt_dict['4'] += 1\n",
    "        cnt_dict['5'] += 1\n",
    "    else:\n",
    "        cnt_dict['5'] += 1\n",
    "        if random()<2/5:\n",
    "            cnt_dict['2'] += 1\n",
    "        else:\n",
    "            cnt_dict['3'] += 1\n",
    "            \n",
    "prob = [float('{:.3f}'.format(ele/sum(cnt_dict.values()))) for ele in cnt_dict.values()]\n",
    "prob_required = [float('{:.3f}'.format(i/15)) for i in range(1,6)]\n",
    "\n",
    "print(prob_required)\n",
    "print(prob)"
   ]
  }
 ],
 "metadata": {
  "kernelspec": {
   "display_name": "Python 3 (ipykernel)",
   "language": "python",
   "name": "python3"
  },
  "language_info": {
   "codemirror_mode": {
    "name": "ipython",
    "version": 3
   },
   "file_extension": ".py",
   "mimetype": "text/x-python",
   "name": "python",
   "nbconvert_exporter": "python",
   "pygments_lexer": "ipython3",
   "version": "3.9.6"
  }
 },
 "nbformat": 4,
 "nbformat_minor": 5
}
